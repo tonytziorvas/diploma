{
 "cells": [
  {
   "cell_type": "code",
   "execution_count": 1,
   "id": "72ccba35",
   "metadata": {},
   "outputs": [],
   "source": [
    "%load_ext autoreload\n",
    "%autoreload 2\n"
   ]
  },
  {
   "cell_type": "code",
   "execution_count": null,
   "id": "5d9fef0c",
   "metadata": {},
   "outputs": [],
   "source": [
    "import pandas as pd\n",
    "from pathlib import Path\n",
    "\n",
    "import helper\n",
    "import postgres\n"
   ]
  },
  {
   "cell_type": "code",
   "execution_count": 2,
   "id": "91728052-0098-4499-907c-99cd287f481d",
   "metadata": {
    "scrolled": true
   },
   "outputs": [
    {
     "name": "stdout",
     "output_type": "stream",
     "text": [
      "=================================================\n",
      "Creating connection to the PostgreSQL database...\n",
      "=================================================\n",
      "=======\n",
      "Table countries_apple already exists! Skipping...\n",
      "=======\n",
      "Table mobility_stats_apple already exists! Skipping...\n",
      "=======\n",
      "Table countries_apple already exists! Skipping...\n",
      "=======\n",
      "Table mobility_stats_apple already exists! Skipping...\n"
     ]
    }
   ],
   "source": [
    "file_path = [\n",
    "    filename\n",
    "    for filename in Path(\"../data\").glob(\"*.csv\")\n",
    "    if filename.stem.startswith(\"applemobilitytrends\")\n",
    "][0]\n",
    "\n",
    "postgres.create_tables_apple()\n"
   ]
  },
  {
   "cell_type": "code",
   "execution_count": 28,
   "id": "6b157a59-8de4-45c8-9a1d-7ea36b6b65f6",
   "metadata": {
    "scrolled": true,
    "tags": []
   },
   "outputs": [],
   "source": [
    "df = pd.read_csv(filepath_or_buffer=file_path.as_posix(), low_memory=False)\n",
    "\n",
    "dates = df[df.columns[6:]]\n",
    "nulls = dates[dates.isna().all(axis=1)].index\n",
    "df.drop(index=nulls, inplace=True)\n",
    "\n",
    "countries_util = (\n",
    "    df.loc[:, (\"region\", \"geo_type\", \"alternative_name\", \"sub-region\", \"country\")]\n",
    "    .drop_duplicates()\n",
    "    .sort_values(by=\"region\")\n",
    "    .reset_index(drop=True)\n",
    ")\n",
    "\n",
    "df.drop(columns=[\"geo_type\", \"alternative_name\", \"country\", \"sub-region\"], inplace=True)\n"
   ]
  },
  {
   "cell_type": "code",
   "execution_count": 29,
   "id": "12bed28a-fa27-455a-a9e9-25dbdcd49eb8",
   "metadata": {
    "tags": []
   },
   "outputs": [
    {
     "name": "stdout",
     "output_type": "stream",
     "text": [
      "=================================================\n",
      "Creating connection to the PostgreSQL database...\n",
      "=================================================\n"
     ]
    }
   ],
   "source": [
    "inter_df = helper.rearrange_df(df)\n",
    "inter_df = inter_df[inter_df[\"date\"] > str(res[\"date\"].values[0])]\n",
    "\n",
    "res = helper.last_entry(\"mobility_stats_apple\")\n"
   ]
  },
  {
   "cell_type": "code",
   "execution_count": 30,
   "id": "f661c4e9-26e2-432f-85d4-68f951dc72d2",
   "metadata": {},
   "outputs": [
    {
     "name": "stdout",
     "output_type": "stream",
     "text": [
      "=================================================\n",
      "Creating connection to the PostgreSQL database...\n",
      "=================================================\n"
     ]
    }
   ],
   "source": [
    "query = \"select * from countries_apple\"\n",
    "existing_countries = (\n",
    "    pd.read_sql_query(sql=query, con=helper._make_connection().connect())\n",
    "    .sort_values(by=\"region\")\n",
    "    .reset_index(drop=True)\n",
    ")\n"
   ]
  },
  {
   "cell_type": "code",
   "execution_count": 43,
   "id": "fa7d5e69",
   "metadata": {},
   "outputs": [],
   "source": [
    "countries_util = pd.concat([countries_util, existing_countries]).drop_duplicates(keep=False)\n"
   ]
  },
  {
   "cell_type": "code",
   "execution_count": 45,
   "id": "06d096dc-bb05-4db9-99a1-b274916e0ba2",
   "metadata": {
    "scrolled": true
   },
   "outputs": [
    {
     "name": "stdout",
     "output_type": "stream",
     "text": [
      "=================================================\n",
      "Creating connection to the PostgreSQL database...\n",
      "=================================================\n",
      "=================================================\n",
      "Creating connection to the PostgreSQL database...\n",
      "=================================================\n"
     ]
    }
   ],
   "source": [
    "postgres.import_data(countries_util, \"countries_apple\")\n",
    "postgres.import_data(inter_df, \"mobility_stats_apple\")\n"
   ]
  },
  {
   "cell_type": "code",
   "execution_count": 46,
   "id": "4f3d3c04-0972-4c1b-b195-0b5d3ef8e5e9",
   "metadata": {
    "tags": []
   },
   "outputs": [],
   "source": [
    "file_path.unlink()\n"
   ]
  }
 ],
 "metadata": {
  "interpreter": {
   "hash": "f6fcad6a3412416004381678102aae19ce844218c71a3c64228bdf8e6861de71"
  },
  "kernelspec": {
   "display_name": "Python 3.9.12 ('pytorch')",
   "language": "python",
   "name": "python3"
  },
  "language_info": {
   "codemirror_mode": {
    "name": "ipython",
    "version": 3
   },
   "file_extension": ".py",
   "mimetype": "text/x-python",
   "name": "python",
   "nbconvert_exporter": "python",
   "pygments_lexer": "ipython3",
   "version": "3.9.12"
  }
 },
 "nbformat": 4,
 "nbformat_minor": 5
}
