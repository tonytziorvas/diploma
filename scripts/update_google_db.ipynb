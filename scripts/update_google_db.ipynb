{
 "cells": [
  {
   "cell_type": "code",
   "execution_count": 1,
   "id": "75e5c7af",
   "metadata": {},
   "outputs": [],
   "source": [
    "%load_ext autoreload\n",
    "%autoreload 2"
   ]
  },
  {
   "cell_type": "code",
   "execution_count": 2,
   "id": "0756c767",
   "metadata": {},
   "outputs": [],
   "source": [
    "import pandas as pd\n",
    "\n",
    "import helper\n",
    "import postgres\n"
   ]
  },
  {
   "cell_type": "code",
   "execution_count": 3,
   "id": "be03d4da-3d1f-4b50-a029-a17ee19b24ac",
   "metadata": {},
   "outputs": [
    {
     "name": "stderr",
     "output_type": "stream",
     "text": [
      "Global_Mobility_Report.csv: 100%|##########| 971M/971M [05:25<00:00, 2.99Mit/s] \n"
     ]
    }
   ],
   "source": [
    "# file_path = \"../../Data/Global_Mobility_Report.csv\"\n",
    "file_path = helper.download_file(url='https://www.gstatic.com/covid19/mobility/Global_Mobility_Report.csv')\n"
   ]
  },
  {
   "cell_type": "code",
   "execution_count": 4,
   "id": "c89191f4",
   "metadata": {},
   "outputs": [
    {
     "name": "stdout",
     "output_type": "stream",
     "text": [
      "=================================================\n",
      "Creating connection to the PostgreSQL database...\n",
      "=================================================\n",
      "=======\n",
      "Table countries_google already exists! Skipping...\n",
      "=======\n",
      "Table location_util_google already exists! Skipping...\n",
      "=======\n",
      "Table mobility_stats_google already exists! Skipping...\n"
     ]
    }
   ],
   "source": [
    "postgres.create_tables_google()\n",
    "\n",
    "df = helper.pd.read_csv(\n",
    "    filepath_or_buffer=file_path, parse_dates=True, low_memory=False\n",
    ")\n"
   ]
  },
  {
   "cell_type": "code",
   "execution_count": 5,
   "id": "3286e27b",
   "metadata": {},
   "outputs": [
    {
     "name": "stdout",
     "output_type": "stream",
     "text": [
      "=================================================\n",
      "Creating connection to the PostgreSQL database...\n",
      "=================================================\n"
     ]
    }
   ],
   "source": [
    "res = helper.last_entry(\"mobility_stats_google\")\n",
    "df = df[df[\"date\"] > str(res[\"date\"].values[0])]\n"
   ]
  },
  {
   "cell_type": "code",
   "execution_count": 6,
   "id": "e12dad91",
   "metadata": {},
   "outputs": [],
   "source": [
    "countries = df.loc[:, (\"country_region_code\", \"country_region\")].drop_duplicates()\n",
    "countries[\"country_region_code\"][countries[\"country_region\"] == \"Namibia\"] = \"NA\"\n",
    "countries = countries.sort_values(by=\"country_region_code\").reset_index(\n",
    "    drop=True\n",
    ")\n",
    "\n",
    "stats = df.drop(\n",
    "    columns=[\"country_region\", \"iso_3166_2_code\", \"census_fips_code\", \"place_id\"]\n",
    ")\n",
    "\n",
    "location_util = (\n",
    "    df.loc[\n",
    "        :, (\"country_region_code\", \"iso_3166_2_code\", \"census_fips_code\", \"place_id\")\n",
    "    ]\n",
    "    .drop_duplicates()\n",
    "    .reset_index(drop=True)\n",
    ")\n"
   ]
  },
  {
   "cell_type": "code",
   "execution_count": 7,
   "id": "00a418d9",
   "metadata": {},
   "outputs": [
    {
     "name": "stdout",
     "output_type": "stream",
     "text": [
      "=================================================\n",
      "Creating connection to the PostgreSQL database...\n",
      "=================================================\n"
     ]
    }
   ],
   "source": [
    "query = \"select * from countries_google\"\n",
    "existing_countries = (\n",
    "    pd.read_sql_query(sql=query, con=helper._make_connection().connect())\n",
    "    .sort_values(by=\"country_region_code\", axis=0)\n",
    "    .reset_index(drop=True)\n",
    ")\n"
   ]
  },
  {
   "cell_type": "code",
   "execution_count": 8,
   "id": "54956f65",
   "metadata": {},
   "outputs": [],
   "source": [
    "countries = [\n",
    "    x\n",
    "    for x in countries.values\n",
    "    if x[0] not in existing_countries[\"country_region_code\"].values\n",
    "]\n",
    "countries = pd.DataFrame(countries, columns=[\"country_region_code\", \"country_region\"])\n"
   ]
  },
  {
   "cell_type": "code",
   "execution_count": 9,
   "id": "5018c4ac",
   "metadata": {},
   "outputs": [
    {
     "name": "stdout",
     "output_type": "stream",
     "text": [
      "=================================================\n",
      "Creating connection to the PostgreSQL database...\n",
      "=================================================\n"
     ]
    }
   ],
   "source": [
    "query = \"select * from location_util_google\"\n",
    "existing_util = pd.read_sql_query(sql=query, con=helper._make_connection().connect())\n"
   ]
  },
  {
   "cell_type": "code",
   "execution_count": 10,
   "id": "03f2c135",
   "metadata": {},
   "outputs": [],
   "source": [
    "location_util = [\n",
    "    x\n",
    "    for x in location_util.values\n",
    "    if x[0] not in existing_util.country_region_code.values\n",
    "]\n",
    "location_util = pd.DataFrame(\n",
    "    location_util,\n",
    "    columns=[\"country_region_code\", \"iso_3166_2_code\", \"census_fips_code\", \"place_id\"],\n",
    ")\n"
   ]
  },
  {
   "cell_type": "code",
   "execution_count": 11,
   "id": "69c4b7af",
   "metadata": {},
   "outputs": [
    {
     "name": "stdout",
     "output_type": "stream",
     "text": [
      "=================================================\n",
      "Creating connection to the PostgreSQL database...\n",
      "=================================================\n",
      "=================================================\n",
      "Creating connection to the PostgreSQL database...\n",
      "=================================================\n",
      "=================================================\n",
      "Creating connection to the PostgreSQL database...\n",
      "=================================================\n"
     ]
    }
   ],
   "source": [
    "postgres.import_data(countries, \"countries_google\")\n",
    "postgres.import_data(stats, \"mobility_stats_google\")\n",
    "postgres.import_data(location_util, \"location_util_google\")\n"
   ]
  }
 ],
 "metadata": {
  "interpreter": {
   "hash": "f6fcad6a3412416004381678102aae19ce844218c71a3c64228bdf8e6861de71"
  },
  "kernelspec": {
   "display_name": "Python 3.9.12 ('pytorch')",
   "language": "python",
   "name": "python3"
  },
  "language_info": {
   "codemirror_mode": {
    "name": "ipython",
    "version": 3
   },
   "file_extension": ".py",
   "mimetype": "text/x-python",
   "name": "python",
   "nbconvert_exporter": "python",
   "pygments_lexer": "ipython3",
   "version": "3.9.12"
  }
 },
 "nbformat": 4,
 "nbformat_minor": 5
}
